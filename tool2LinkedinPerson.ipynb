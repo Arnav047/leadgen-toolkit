{
 "cells": [
  {
   "cell_type": "code",
   "execution_count": 8,
   "id": "ce8e6f2f",
   "metadata": {},
   "outputs": [],
   "source": [
    "import streamlit as st\n",
    "import requests\n",
    "import pandas as pd"
   ]
  },
  {
   "cell_type": "code",
   "execution_count": 9,
   "id": "07a90099",
   "metadata": {},
   "outputs": [],
   "source": [
    "def get_lever_jobs(company):\n",
    "    try:\n",
    "        url = f\"https://api.lever.co/v0/postings/{company}?mode=json\"\n",
    "        response = requests.get(url)\n",
    "        if response.status_code == 200:\n",
    "            jobs = response.json()\n",
    "            return [{\n",
    "                \"Title\": job.get(\"text\", \"\"),\n",
    "                \"Location\": job.get(\"categories\", {}).get(\"location\", \"\"),\n",
    "                \"Department\": job.get(\"categories\", {}).get(\"team\", \"\"),\n",
    "                \"Commitment\": job.get(\"categories\", {}).get(\"commitment\", \"\"),\n",
    "                \"URL\": job.get(\"hostedUrl\", \"\")\n",
    "            } for job in jobs]\n",
    "    except:\n",
    "        return []\n",
    "    return []\n",
    "\n",
    "def get_greenhouse_jobs(company):\n",
    "    try:\n",
    "        url = f\"https://boards-api.greenhouse.io/v1/boards/{company}/jobs\"\n",
    "        response = requests.get(url)\n",
    "        if response.status_code == 200:\n",
    "            jobs = response.json().get(\"jobs\", [])\n",
    "            return [{\n",
    "                \"Title\": job.get(\"title\", \"\"),\n",
    "                \"Location\": job.get(\"location\", {}).get(\"name\", \"\"),\n",
    "                \"Department\": job.get(\"departments\", [{}])[0].get(\"name\", \"\") if job.get(\"departments\") else \"\",\n",
    "                \"Commitment\": \"\",\n",
    "                \"URL\": job.get(\"absolute_url\", \"\")\n",
    "            } for job in jobs]\n",
    "    except:\n",
    "        return []\n",
    "    return []\n",
    "\n",
    "def is_relevant(title):\n",
    "    keywords = [\"data\", \"ai\", \"ml\", \"machine learning\", \"artificial intelligence\", \"sales\", \"analytics\"]\n",
    "    return any(k in title.lower() for k in keywords)\n",
    "\n"
   ]
  },
  {
   "cell_type": "code",
   "execution_count": 10,
   "id": "355ffa03",
   "metadata": {},
   "outputs": [
    {
     "name": "stderr",
     "output_type": "stream",
     "text": [
      "2025-04-08 16:52:17.633 Thread 'MainThread': missing ScriptRunContext! This warning can be ignored when running in bare mode.\n",
      "2025-04-08 16:52:17.647 Thread 'MainThread': missing ScriptRunContext! This warning can be ignored when running in bare mode.\n",
      "2025-04-08 16:52:17.649 Thread 'MainThread': missing ScriptRunContext! This warning can be ignored when running in bare mode.\n",
      "2025-04-08 16:52:17.662 Thread 'MainThread': missing ScriptRunContext! This warning can be ignored when running in bare mode.\n",
      "2025-04-08 16:52:17.663 Thread 'MainThread': missing ScriptRunContext! This warning can be ignored when running in bare mode.\n",
      "2025-04-08 16:52:17.665 Thread 'MainThread': missing ScriptRunContext! This warning can be ignored when running in bare mode.\n",
      "2025-04-08 16:52:17.666 Thread 'MainThread': missing ScriptRunContext! This warning can be ignored when running in bare mode.\n",
      "2025-04-08 16:52:17.666 Thread 'MainThread': missing ScriptRunContext! This warning can be ignored when running in bare mode.\n",
      "2025-04-08 16:52:17.666 Thread 'MainThread': missing ScriptRunContext! This warning can be ignored when running in bare mode.\n",
      "2025-04-08 16:52:17.666 Thread 'MainThread': missing ScriptRunContext! This warning can be ignored when running in bare mode.\n",
      "2025-04-08 16:52:17.679 Thread 'MainThread': missing ScriptRunContext! This warning can be ignored when running in bare mode.\n"
     ]
    }
   ],
   "source": [
    "st.set_page_config(page_title=\"Job Role Analyzer\", layout=\"wide\")\n",
    "st.title(\"Job Role Analyzer\")\n",
    "st.markdown(\"Search job openings across Lever & Greenhouse for AI/Data/Sales roles.\")\n",
    "\n",
    "company_input = st.text_input(\"Enter Company Slug (e.g., openai, notion, databricks):\")\n",
    "\n",
    "if company_input:\n",
    "    st.info(f\"Searching for job postings at **{company_input}**...\")\n",
    "\n",
    "    lever = get_lever_jobs(company_input)\n",
    "    greenhouse = get_greenhouse_jobs(company_input)\n",
    "\n",
    "    all_jobs = lever + greenhouse\n",
    "    df = pd.DataFrame(all_jobs)\n",
    "\n",
    "    if not df.empty:\n",
    "        df[\"Relevant\"] = df[\"Title\"].apply(is_relevant)\n",
    "        filter_roles = st.checkbox(\"Show only AI/Data/Sales roles\", value=True)\n",
    "\n",
    "        if filter_roles:\n",
    "            df = df[df[\"Relevant\"]]\n",
    "\n",
    "        st.success(f\"Found {len(df)} job(s).\")\n",
    "        st.dataframe(df.drop(columns=[\"Relevant\"]), use_container_width=True)\n",
    "    else:\n",
    "        st.error(\"No jobs found on Lever or Greenhouse.\")\n"
   ]
  },
  {
   "cell_type": "code",
   "execution_count": null,
   "id": "acdc2dad",
   "metadata": {},
   "outputs": [],
   "source": []
  }
 ],
 "metadata": {
  "kernelspec": {
   "display_name": "Python newENV",
   "language": "python",
   "name": "myenv"
  },
  "language_info": {
   "codemirror_mode": {
    "name": "ipython",
    "version": 3
   },
   "file_extension": ".py",
   "mimetype": "text/x-python",
   "name": "python",
   "nbconvert_exporter": "python",
   "pygments_lexer": "ipython3",
   "version": "3.11.0"
  }
 },
 "nbformat": 4,
 "nbformat_minor": 5
}
