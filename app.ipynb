{
 "cells": [
  {
   "cell_type": "code",
   "execution_count": 32,
   "id": "2c678ef6",
   "metadata": {},
   "outputs": [],
   "source": [
    "import streamlit as st\n",
    "import pandas as pd\n",
    "import requests\n",
    "from googlesearch import search\n",
    "from urllib.parse import urlparse\n",
    "import time"
   ]
  },
  {
   "cell_type": "code",
   "execution_count": 33,
   "id": "1ae3baf6",
   "metadata": {},
   "outputs": [],
   "source": [
    "def get_linkedin_url(company_name):\n",
    "    query = f\"{company_name} site:linkedin.com/company\"\n",
    "    try:\n",
    "        for result in search(query, num_results=10):\n",
    "            if \"linkedin.com/company\" in result:\n",
    "                url = result.split(\"?\")[0]\n",
    "                if validate_linkedin_url(url):\n",
    "                    return url\n",
    "    except Exception as e:\n",
    "        return f\"Error: {str(e)}\"\n",
    "    return \"Not found\"\n",
    "\n",
    "def validate_linkedin_url(url):\n",
    "    try:\n",
    "        headers = {\n",
    "            \"User-Agent\": \"Mozilla/5.0\"\n",
    "        }\n",
    "        response = requests.get(url, headers=headers, timeout=5)\n",
    "        return response.status_code == 200\n",
    "    except:\n",
    "        return False\n",
    "\n"
   ]
  },
  {
   "cell_type": "code",
   "execution_count": 34,
   "id": "46bf150b",
   "metadata": {},
   "outputs": [
    {
     "name": "stderr",
     "output_type": "stream",
     "text": [
      "2025-04-08 12:51:40.585 WARNING streamlit.runtime.scriptrunner_utils.script_run_context: Thread 'MainThread': missing ScriptRunContext! This warning can be ignored when running in bare mode.\n",
      "2025-04-08 12:51:41.271 \n",
      "  \u001b[33m\u001b[1mWarning:\u001b[0m to view this Streamlit app on a browser, run it with the following\n",
      "  command:\n",
      "\n",
      "    streamlit run C:\\Users\\ADMIN\\myenv\\Lib\\site-packages\\ipykernel_launcher.py [ARGUMENTS]\n",
      "2025-04-08 12:51:41.286 Thread 'MainThread': missing ScriptRunContext! This warning can be ignored when running in bare mode.\n",
      "2025-04-08 12:51:41.286 Thread 'MainThread': missing ScriptRunContext! This warning can be ignored when running in bare mode.\n",
      "2025-04-08 12:51:41.286 Thread 'MainThread': missing ScriptRunContext! This warning can be ignored when running in bare mode.\n",
      "2025-04-08 12:51:41.286 Thread 'MainThread': missing ScriptRunContext! This warning can be ignored when running in bare mode.\n",
      "2025-04-08 12:51:41.286 Thread 'MainThread': missing ScriptRunContext! This warning can be ignored when running in bare mode.\n",
      "2025-04-08 12:51:41.295 Thread 'MainThread': missing ScriptRunContext! This warning can be ignored when running in bare mode.\n",
      "2025-04-08 12:51:41.297 Thread 'MainThread': missing ScriptRunContext! This warning can be ignored when running in bare mode.\n",
      "2025-04-08 12:51:41.298 Thread 'MainThread': missing ScriptRunContext! This warning can be ignored when running in bare mode.\n",
      "2025-04-08 12:51:41.300 Thread 'MainThread': missing ScriptRunContext! This warning can be ignored when running in bare mode.\n",
      "2025-04-08 12:51:41.300 Thread 'MainThread': missing ScriptRunContext! This warning can be ignored when running in bare mode.\n"
     ]
    }
   ],
   "source": [
    "st.title(\"🔍 LinkedIn Company Finder Tool\")\n",
    "st.write(\"Upload a CSV file with a column named `Company`, and we'll fetch their LinkedIn URLs.\")\n",
    "\n",
    "uploaded_file = st.file_uploader(\"Upload your CSV file\", type=[\"csv\"])\n",
    "\n",
    "if uploaded_file is not None:\n",
    "    df = pd.read_csv(uploaded_file)\n",
    "    \n",
    "    if \"Company\" not in df.columns:\n",
    "        st.error(\"CSV must contain a 'Company' column.\")\n",
    "    else:\n",
    "        st.success(f\"Found {len(df)} companies.\")\n",
    "        if st.button(\"🔎 Find LinkedIn URLs\"):\n",
    "            results = []\n",
    "            with st.spinner(\"Searching for LinkedIn URLs...\"):\n",
    "                for i, row in df.iterrows():\n",
    "                    company = row[\"Company\"]\n",
    "                    url = get_linkedin_url(company)\n",
    "                    results.append(url)\n",
    "                    time.sleep(1)\n",
    "            \n",
    "            df[\"LinkedIn URL\"] = results\n",
    "            st.success(\"Done! 🎉\")\n",
    "            st.write(df)\n",
    "\n",
    "            csv_download = df.to_csv(index=False).encode(\"utf-8\")\n",
    "            st.download_button(\n",
    "                label=\"📥 Download Results CSV\",\n",
    "                data=csv_download,\n",
    "                file_name=\"linkedin_results.csv\",\n",
    "                mime=\"text/csv\"\n",
    "            )\n"
   ]
  },
  {
   "cell_type": "code",
   "execution_count": null,
   "id": "091014ef",
   "metadata": {},
   "outputs": [],
   "source": []
  },
  {
   "cell_type": "code",
   "execution_count": null,
   "id": "6e2a4500",
   "metadata": {},
   "outputs": [],
   "source": []
  }
 ],
 "metadata": {
  "kernelspec": {
   "display_name": "Python newENV",
   "language": "python",
   "name": "myenv"
  },
  "language_info": {
   "codemirror_mode": {
    "name": "ipython",
    "version": 3
   },
   "file_extension": ".py",
   "mimetype": "text/x-python",
   "name": "python",
   "nbconvert_exporter": "python",
   "pygments_lexer": "ipython3",
   "version": "3.11.0"
  }
 },
 "nbformat": 4,
 "nbformat_minor": 5
}
